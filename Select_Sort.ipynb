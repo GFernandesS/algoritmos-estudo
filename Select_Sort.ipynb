{
  "nbformat": 4,
  "nbformat_minor": 0,
  "metadata": {
    "colab": {
      "name": "Select_Sort.ipynb",
      "provenance": [],
      "collapsed_sections": [],
      "authorship_tag": "ABX9TyMJB6OOnVOfeunRgEZBYb2g",
      "include_colab_link": true
    },
    "kernelspec": {
      "name": "python3",
      "display_name": "Python 3"
    },
    "language_info": {
      "name": "python"
    }
  },
  "cells": [
    {
      "cell_type": "markdown",
      "metadata": {
        "id": "view-in-github",
        "colab_type": "text"
      },
      "source": [
        "<a href=\"https://colab.research.google.com/github/GFernandesS/algoritmos-estudo/blob/master/Select_Sort.ipynb\" target=\"_parent\"><img src=\"https://colab.research.google.com/assets/colab-badge.svg\" alt=\"Open In Colab\"/></a>"
      ]
    },
    {
      "cell_type": "code",
      "execution_count": 1,
      "metadata": {
        "id": "YzIGdCs2ot62"
      },
      "outputs": [],
      "source": [
        "# Complexity: O(n^2)\n",
        "\n",
        "def select_less(l):\n",
        "  minor = l[0]\n",
        "  minor_index = 0\n",
        "\n",
        "  for i in range(1, len(l)):\n",
        "    if l[i] < minor:\n",
        "      minor = l[i]\n",
        "      minor_index = i\n",
        "  return minor_index\n",
        "\n",
        "def select_sort(l):\n",
        "  new_array = []\n",
        "\n",
        "  for i in range(0, len(l)):\n",
        "    minor_index = select_less(l)\n",
        "\n",
        "    new_array.append(l.pop(minor_index))\n",
        "  \n",
        "  return new_array"
      ]
    },
    {
      "cell_type": "code",
      "source": [
        "#Testing\n",
        "\n",
        "l = [1, 5, 2, 6, 9, 0, 3]\n",
        "\n",
        "sorted_array = select_sort(l)\n",
        "\n",
        "print(f\"Sorted array: {sorted_array}\")"
      ],
      "metadata": {
        "colab": {
          "base_uri": "https://localhost:8080/"
        },
        "id": "HvP8qWgwp5P7",
        "outputId": "e685ef70-d471-45eb-bd8c-0263b5996a37"
      },
      "execution_count": 3,
      "outputs": [
        {
          "output_type": "stream",
          "name": "stdout",
          "text": [
            "Sorted array: [0, 1, 2, 3, 5, 6, 9]\n"
          ]
        }
      ]
    }
  ]
}