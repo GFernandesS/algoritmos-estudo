{
  "nbformat": 4,
  "nbformat_minor": 0,
  "metadata": {
    "colab": {
      "name": "binary-search.ipynb",
      "provenance": [],
      "authorship_tag": "ABX9TyPAWYdrrARtmCuq0iurTu6F",
      "include_colab_link": true
    },
    "kernelspec": {
      "name": "python3",
      "display_name": "Python 3"
    },
    "language_info": {
      "name": "python"
    }
  },
  "cells": [
    {
      "cell_type": "markdown",
      "metadata": {
        "id": "view-in-github",
        "colab_type": "text"
      },
      "source": [
        "<a href=\"https://colab.research.google.com/github/GFernandesS/algoritmos-estudo/blob/master/binary_search.ipynb\" target=\"_parent\"><img src=\"https://colab.research.google.com/assets/colab-badge.svg\" alt=\"Open In Colab\"/></a>"
      ]
    },
    {
      "cell_type": "code",
      "execution_count": 9,
      "metadata": {
        "id": "fIJteypTlopX"
      },
      "outputs": [],
      "source": [
        "def binary_search(lista, item):\n",
        "  lower = 0\n",
        "\n",
        "  higher = len(lista) - 1\n",
        "\n",
        "  while lower <= higher:\n",
        "    middle = (lower + higher) // 2\n",
        "\n",
        "    if lista[middle] == item:\n",
        "      return middle\n",
        "\n",
        "    if lista[middle] < item:\n",
        "      lower = middle + 1\n",
        "    else:\n",
        "      higher = middle - 1"
      ]
    },
    {
      "cell_type": "code",
      "source": [
        "lista_ordenada = [1, 4, 8, 9, 10]\n",
        "\n",
        "print(binary_search(lista_ordenada, 10))"
      ],
      "metadata": {
        "colab": {
          "base_uri": "https://localhost:8080/"
        },
        "id": "7Ebvl2NjoOSb",
        "outputId": "2ff690ee-6323-4612-872d-5de5ba9e5b6b"
      },
      "execution_count": 10,
      "outputs": [
        {
          "output_type": "stream",
          "name": "stdout",
          "text": [
            "4\n"
          ]
        }
      ]
    }
  ]
}